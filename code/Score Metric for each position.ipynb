{
 "cells": [
  {
   "cell_type": "markdown",
   "metadata": {},
   "source": [
    "# Metric Scores for Football Manager Roles and Positions"
   ]
  },
  {
   "cell_type": "code",
   "execution_count": 1,
   "metadata": {},
   "outputs": [],
   "source": [
    "import pandas as pd"
   ]
  },
  {
   "cell_type": "code",
   "execution_count": 2,
   "metadata": {},
   "outputs": [],
   "source": [
    "import glob\n",
    "import os"
   ]
  },
  {
   "cell_type": "code",
   "execution_count": 13,
   "metadata": {},
   "outputs": [
    {
     "name": "stdout",
     "output_type": "stream",
     "text": [
      "Latest file: /Users/User/Documents/Projects/FootballManagerCode/data\\QPR732023.html\n"
     ]
    }
   ],
   "source": [
    "directory_path = (os.path.join('/Users/User/Documents/Projects/FootballManagerCode/data/*'))\n",
    "files_and_dirs = glob.glob(directory_path)\n",
    "\n",
    "if files_and_dirs:\n",
    "    latest_file = max(files_and_dirs, key=os.path.getctime)\n",
    "    print(\"Latest file:\", latest_file)\n",
    "else:\n",
    "    print(\"No files found in the specified directory.\")"
   ]
  },
  {
   "cell_type": "code",
   "execution_count": 14,
   "metadata": {},
   "outputs": [],
   "source": [
    "# read html file exported by FM \n",
    "rawdata_list = pd.read_html(latest_file, header=0, encoding=\"utf-8\", keep_default_na=False)"
   ]
  },
  {
   "cell_type": "code",
   "execution_count": 15,
   "metadata": {},
   "outputs": [],
   "source": [
    "# turn into a dataframe\n",
    "df = rawdata_list[0]"
   ]
  },
  {
   "cell_type": "markdown",
   "metadata": {},
   "source": [
    "For calculating speed, workrate and set piece metrics, I chose to use a geometric mean over an arithmetic mean, (df['Pac'] + df['Acc']) / 2. \n",
    "\n",
    "It offers advantages:\n",
    "\n",
    "1. Balanced Attributes: The geometric mean is particularly sensitive to values that are significantly lower than others. This means if a player has a very high value in one attribute (e.g., Pac) but a low value in another (e.g., Acc), their overall Spd score won't be inflated. \n",
    "2. Reduced Skewness.\n",
    "3. Non-linear scaling - a combination of two attributes might have a more significant impact than the sum of their individual effects. "
   ]
  },
  {
   "cell_type": "code",
   "execution_count": 29,
   "metadata": {},
   "outputs": [],
   "source": [
    "# Calculate speed, workrate and set piece scores\n",
    "df['Spd'] = (df['Pac'] * df['Acc']) ** 0.5\n",
    "df['Work'] = (df['Wor'] + df['Sta']) ** 0.5\n",
    "df['SetPiece'] = (df['Jum'] + df['Bra']) ** 0.5"
   ]
  },
  {
   "cell_type": "code",
   "execution_count": 41,
   "metadata": {},
   "outputs": [],
   "source": [
    "# Calculate the overall sweeper keeper support score\n",
    "df['sk_support'] = (\n",
    "    # Essential attributes\n",
    "    ((df['Agi'] + df['Ref']) * 5) +\n",
    "    # Core attributes \n",
    "    ((df['1v1'] + df['Ant'] + df['Cmd'] + df['Cnt'] + df['Kic'] + df['Pos']) * 3) +\n",
    "    # Secondary attributes\n",
    "    ((df['Acc'] + df['Aer'] + df['Cmp'] + df['Dec'] + df['Fir'] + df['Han'] + df['Pas'] + df['Thr'] + df['Vis']) * 1)\n",
    ") / 37\n",
    "\n",
    "df['sk_support'] = df['sk_support'].round(1)"
   ]
  },
  {
   "cell_type": "code",
   "execution_count": 42,
   "metadata": {},
   "outputs": [],
   "source": [
    "# Calculate the overall wingback support role score (wb)\n",
    "df['wb_support'] = (\n",
    "    # Essential attributes\n",
    "    ((df['Wor'] + df['Acc'] + df['Pac'] + df['Sta']) * 5) +\n",
    "    # Core attributes \n",
    "    ((df['Cro'] + df['Mar'] + df['Dri'] + df['Tck'] + df['OtB'] + df['Tea']) * 3) +\n",
    "    # Secondary attributes\n",
    "    ((df['Fir'] + df['Pas'] + df['Tec'] + df['Ant'] + df['Cnt'] + df['Dec'] + df['Pos'] + df['Agi'] + df['Bal']) * 1)\n",
    ") / (5*4 + 3*6 + 1*9)  # The denominators are the sum of weights for each category\n",
    "\n",
    "df['wb_support'] = df['wb_support'].round(1)"
   ]
  },
  {
   "cell_type": "code",
   "execution_count": 43,
   "metadata": {},
   "outputs": [],
   "source": [
    "# Calculate the overall ball playing defender support role score (bpd_support)\n",
    "df['bpd_support'] = (\n",
    "    # Key attributes\n",
    "    ((df['Hea'] + df['Mar'] + df['Pas'] + df['Tck'] + df['Cmp'] + \n",
    "      df['Pos'] + df['Jum'] + df['Str']) * 5) +\n",
    "      \n",
    "    # Desirable attributes \n",
    "    ((df['Fir'] + df['Tec'] + df['Agg'] + df['Ant'] + \n",
    "      df['Bra'] + df['Cnt'] + df['Dec'] + df['Vis'] + df['Pac']) * 3)\n",
    ") / (5*8 + 3*9)  # The denominators are the sum of weights for each category\n",
    "\n",
    "df['bpd_support'] = df['bpd_support'].round(1)"
   ]
  },
  {
   "cell_type": "code",
   "execution_count": null,
   "metadata": {},
   "outputs": [],
   "source": []
  }
 ],
 "metadata": {
  "kernelspec": {
   "display_name": "Python 3",
   "language": "python",
   "name": "python3"
  },
  "language_info": {
   "codemirror_mode": {
    "name": "ipython",
    "version": 3
   },
   "file_extension": ".py",
   "mimetype": "text/x-python",
   "name": "python",
   "nbconvert_exporter": "python",
   "pygments_lexer": "ipython3",
   "version": "3.8.5"
  }
 },
 "nbformat": 4,
 "nbformat_minor": 4
}
